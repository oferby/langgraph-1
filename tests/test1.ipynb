{
 "cells": [
  {
   "cell_type": "code",
   "execution_count": 1,
   "metadata": {},
   "outputs": [],
   "source": [
    "import langgraph as l\n",
    "import os\n",
    "import dotenv\n",
    "dotenv.load_dotenv()\n",
    "\n",
    "api_key = os.environ['GROQ_API']\n",
    "\n",
    "from langchain_core.prompts import ChatPromptTemplate\n",
    "from langchain_groq import ChatGroq"
   ]
  },
  {
   "cell_type": "code",
   "execution_count": 2,
   "metadata": {},
   "outputs": [],
   "source": [
    "chat = ChatGroq(\n",
    "    temperature=0,\n",
    "    model=\"llama3-70b-8192\",\n",
    "    api_key=api_key\n",
    ")\n",
    "\n",
    "system = \"You are a helpful assistant.\"\n",
    "human = \"{text}\"\n",
    "prompt = ChatPromptTemplate.from_messages([(\"system\", system), (\"human\", human)])\n",
    "\n",
    "chain = prompt | chat"
   ]
  },
  {
   "cell_type": "code",
   "execution_count": 3,
   "metadata": {},
   "outputs": [
    {
     "data": {
      "text/plain": [
       "AIMessage(content='As of my knowledge cutoff, the President of the United States is Joe Biden. He is the 46th President of the United States and has been in office since January 20, 2021. However, please note that my knowledge may not be up to date, and you may want to check current news sources for the most recent information.', response_metadata={'token_usage': {'completion_tokens': 70, 'prompt_tokens': 30, 'total_tokens': 100, 'completion_time': 0.197815348, 'prompt_time': 0.013694894, 'queue_time': None, 'total_time': 0.21151024200000001}, 'model_name': 'llama3-70b-8192', 'system_fingerprint': 'fp_abd29e8833', 'finish_reason': 'stop', 'logprobs': None}, id='run-a965a238-68f3-44c8-9edc-ae6c772ad044-0')"
      ]
     },
     "execution_count": 3,
     "metadata": {},
     "output_type": "execute_result"
    }
   ],
   "source": [
    "answer = chain.invoke({\"text\": \"who is the president of the united states?\"})\n",
    "answer"
   ]
  },
  {
   "cell_type": "code",
   "execution_count": 4,
   "metadata": {},
   "outputs": [
    {
     "data": {
      "text/plain": [
       "[{'name': 'get_current_weather',\n",
       "  'args': {'location': 'San Francisco', 'unit': 'Celsius'},\n",
       "  'id': 'call_h4n7'},\n",
       " {'name': 'get_current_weather',\n",
       "  'args': {'location': 'Tokyo', 'unit': 'Celsius'},\n",
       "  'id': 'call_hpja'}]"
      ]
     },
     "execution_count": 4,
     "metadata": {},
     "output_type": "execute_result"
    }
   ],
   "source": [
    "from typing import Optional\n",
    "\n",
    "from langchain_core.tools import tool\n",
    "\n",
    "\n",
    "@tool\n",
    "def get_current_weather(location: str, unit: Optional[str]):\n",
    "    \"\"\"Get the current weather in a given location\"\"\"\n",
    "    return \"Cloudy with a chance of rain.\"\n",
    "\n",
    "\n",
    "tool_model = chat.bind_tools([get_current_weather], tool_choice=\"auto\")\n",
    "\n",
    "res = tool_model.invoke(\"What is the weather like in San Francisco and Tokyo?\")\n",
    "\n",
    "res.tool_calls"
   ]
  },
  {
   "cell_type": "code",
   "execution_count": 6,
   "metadata": {},
   "outputs": [],
   "source": [
    "res = chain.invoke(\"What is the weather like in San Francisco and Tokyo?\")"
   ]
  },
  {
   "cell_type": "code",
   "execution_count": 7,
   "metadata": {},
   "outputs": [
    {
     "data": {
      "text/plain": [
       "AIMessage(content=\"I'd be happy to help you with that!\\n\\n**San Francisco, USA:**\\nAs of my knowledge cutoff, San Francisco is experiencing a mild winter season. Currently, the weather in San Francisco is:\\n\\n* Temperature: Around 52°F (11°C) with a high of 58°F (14°C) and a low of 46°F (8°C)\\n* Conditions: Partly cloudy with a gentle breeze\\n* Precipitation: There's a slight chance of light rain showers, but mostly dry\\n\\nSan Francisco's weather is known for being cool and foggy, especially in the mornings and evenings, even during the summer months. If you're planning a trip, be sure to pack layers for your visit!\\n\\n**Tokyo, Japan:**\\nAs of my knowledge cutoff, Tokyo is experiencing a chilly winter season. Currently, the weather in Tokyo is:\\n\\n* Temperature: Around 43°F (6°C) with a high of 48°F (9°C) and a low of 38°F (3°C)\\n* Conditions: Mostly cloudy with a moderate breeze\\n* Precipitation: There's a slight chance of light snow flurries, but mostly dry\\n\\nTokyo's weather can be quite cold during the winter months, especially in the mornings and evenings. If you're planning a trip, be sure to pack warm clothing, including a heavy coat, gloves, and a scarf.\\n\\nPlease note that weather conditions can change rapidly, so I recommend checking the latest forecasts before your trip for the most up-to-date information.\\n\\nI hope this helps, and happy travels!\", response_metadata={'token_usage': {'completion_tokens': 320, 'prompt_tokens': 32, 'total_tokens': 352, 'completion_time': 0.901353452, 'prompt_time': 0.010409244, 'queue_time': None, 'total_time': 0.911762696}, 'model_name': 'llama3-70b-8192', 'system_fingerprint': 'fp_abd29e8833', 'finish_reason': 'stop', 'logprobs': None}, id='run-965c198c-7090-41ac-9c7b-12dfabd6f888-0')"
      ]
     },
     "execution_count": 7,
     "metadata": {},
     "output_type": "execute_result"
    }
   ],
   "source": [
    "res"
   ]
  },
  {
   "cell_type": "code",
   "execution_count": 8,
   "metadata": {},
   "outputs": [
    {
     "data": {
      "text/plain": [
       "[]"
      ]
     },
     "execution_count": 8,
     "metadata": {},
     "output_type": "execute_result"
    }
   ],
   "source": [
    "res.tool_calls"
   ]
  },
  {
   "cell_type": "code",
   "execution_count": null,
   "metadata": {},
   "outputs": [],
   "source": []
  }
 ],
 "metadata": {
  "kernelspec": {
   "display_name": "venv",
   "language": "python",
   "name": "python3"
  },
  "language_info": {
   "codemirror_mode": {
    "name": "ipython",
    "version": 3
   },
   "file_extension": ".py",
   "mimetype": "text/x-python",
   "name": "python",
   "nbconvert_exporter": "python",
   "pygments_lexer": "ipython3",
   "version": "3.11.9"
  }
 },
 "nbformat": 4,
 "nbformat_minor": 2
}
